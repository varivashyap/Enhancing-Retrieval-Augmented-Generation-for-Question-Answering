{
 "cells": [
  {
   "cell_type": "code",
   "execution_count": 1,
   "metadata": {},
   "outputs": [
    {
     "name": "stderr",
     "output_type": "stream",
     "text": [
      "2025-03-09 11:30:14.562319: I tensorflow/core/util/port.cc:153] oneDNN custom operations are on. You may see slightly different numerical results due to floating-point round-off errors from different computation orders. To turn them off, set the environment variable `TF_ENABLE_ONEDNN_OPTS=0`.\n",
      "2025-03-09 11:30:14.571839: E external/local_xla/xla/stream_executor/cuda/cuda_fft.cc:477] Unable to register cuFFT factory: Attempting to register factory for plugin cuFFT when one has already been registered\n",
      "WARNING: All log messages before absl::InitializeLog() is called are written to STDERR\n",
      "E0000 00:00:1741500014.581838 3356167 cuda_dnn.cc:8310] Unable to register cuDNN factory: Attempting to register factory for plugin cuDNN when one has already been registered\n",
      "E0000 00:00:1741500014.584647 3356167 cuda_blas.cc:1418] Unable to register cuBLAS factory: Attempting to register factory for plugin cuBLAS when one has already been registered\n",
      "2025-03-09 11:30:14.597196: I tensorflow/core/platform/cpu_feature_guard.cc:210] This TensorFlow binary is optimized to use available CPU instructions in performance-critical operations.\n",
      "To enable the following instructions: AVX2 AVX512F AVX512_VNNI AVX512_BF16 FMA, in other operations, rebuild TensorFlow with the appropriate compiler flags.\n"
     ]
    }
   ],
   "source": [
    "import json\n",
    "import torch\n",
    "import os\n",
    "import numpy as np\n",
    "from tqdm import tqdm\n",
    "from transformers import AutoModelForCausalLM, AutoTokenizer, GenerationConfig\n",
    "from sentence_transformers import SentenceTransformer\n",
    "from torch.optim import Adam\n",
    "from torch.nn.functional import cosine_similarity\n",
    "from datasets import load_dataset\n",
    "from transformers import pipeline  # Fact-checking pipeline"
   ]
  },
  {
   "cell_type": "code",
   "execution_count": 2,
   "metadata": {},
   "outputs": [
    {
     "name": "stderr",
     "output_type": "stream",
     "text": [
      "/home/anishkav/.local/lib/python3.10/site-packages/torch/cuda/memory.py:329: FutureWarning: torch.cuda.reset_max_memory_allocated now calls torch.cuda.reset_peak_memory_stats, which resets /all/ peak memory stats.\n",
      "  warnings.warn(\n",
      "/home/anishkav/.local/lib/python3.10/site-packages/torch/cuda/memory.py:356: FutureWarning: torch.cuda.reset_max_memory_cached now calls torch.cuda.reset_peak_memory_stats, which resets /all/ peak memory stats.\n",
      "  warnings.warn(\n"
     ]
    }
   ],
   "source": [
    "torch.cuda.empty_cache()\n",
    "torch.cuda.reset_max_memory_allocated()\n",
    "torch.cuda.reset_max_memory_cached()\n",
    "device = torch.device(\"cpu\")"
   ]
  },
  {
   "cell_type": "code",
   "execution_count": 3,
   "metadata": {},
   "outputs": [
    {
     "name": "stderr",
     "output_type": "stream",
     "text": [
      "Hardware accelerator e.g. GPU is available in the environment, but no `device` argument is passed to the `Pipeline` object. Model will be on CPU.\n"
     ]
    }
   ],
   "source": [
    "# Initialize models\n",
    "retriever_model = SentenceTransformer(\"all-MiniLM-L6-v2\")\n",
    "fact_checker = pipeline(\"text-classification\", model=\"facebook/bart-large-mnli\")\n"
   ]
  },
  {
   "cell_type": "code",
   "execution_count": 4,
   "metadata": {},
   "outputs": [],
   "source": [
    "# RL and training hyperparameters\n",
    "LEARNING_RATE = 5e-5\n",
    "num_epochs = 2\n",
    "temperature = 0.8\n",
    "max_new_tokens = 64\n",
    "alpha = 0.5"
   ]
  },
  {
   "cell_type": "code",
   "execution_count": 5,
   "metadata": {},
   "outputs": [],
   "source": [
    "def save_list_to_json(lst, filename):\n",
    "    with open(filename, 'w') as file:\n",
    "        json.dump(lst, file)\n",
    "\n",
    "def rm_file(file_path):\n",
    "    if os.path.exists(file_path):\n",
    "        os.remove(file_path)\n",
    "        print(f\"File {file_path} removed successfully.\")"
   ]
  },
  {
   "cell_type": "code",
   "execution_count": 6,
   "metadata": {},
   "outputs": [],
   "source": [
    "def compute_reward(model_answer, gold_answer, context):\n",
    "    \"\"\"\n",
    "    Compute reward based on cosine similarity and fact-verification confidence.\n",
    "    \"\"\"\n",
    "    model_embedding = retriever_model.encode(model_answer, convert_to_tensor=True)\n",
    "    gold_embedding = retriever_model.encode(gold_answer, convert_to_tensor=True)\n",
    "    \n",
    "    similarity_score = cosine_similarity(model_embedding.unsqueeze(0), gold_embedding.unsqueeze(0)).item()\n",
    "    \n",
    "    fact_check_result = fact_checker(f\"Does the following context support the statement? {model_answer} Context: {context}\")\n",
    "    fact_confidence = max([res['score'] for res in fact_check_result if res['label'] == \"ENTAILMENT\"], default=0.5)\n",
    "    \n",
    "    return (similarity_score + fact_confidence) / 2"
   ]
  },
  {
   "cell_type": "code",
   "execution_count": 7,
   "metadata": {},
   "outputs": [],
   "source": [
    "def retrieve_context(query, retrieval_list, hops=2):\n",
    "    \"\"\"\n",
    "    Rank retrieved documents using cosine similarity and concatenate the top ones as context.\n",
    "    \"\"\"\n",
    "    query_embedding = retriever_model.encode(query, convert_to_tensor=True)\n",
    "    if len(query_embedding.shape) == 1:\n",
    "        query_embedding = query_embedding.unsqueeze(0)\n",
    "    scored_docs = sorted(\n",
    "        retrieval_list,\n",
    "        key=lambda doc: torch.nn.functional.cosine_similarity(\n",
    "            query_embedding,\n",
    "            retriever_model.encode(doc['text'], convert_to_tensor=True).unsqueeze(0),\n",
    "            dim=1\n",
    "        ).item(),\n",
    "        reverse=True\n",
    "    )\n",
    "    context = \"\"\n",
    "    for i in range(min(hops, len(scored_docs))):\n",
    "        context += scored_docs[i]['text'] + \"\\n\\n\"\n",
    "    return context"
   ]
  },
  {
   "cell_type": "code",
   "execution_count": 8,
   "metadata": {},
   "outputs": [],
   "source": [
    "def query_bot_rl(prompt, temperature=temperature, max_new_tokens=max_new_tokens):\n",
    "    \"\"\"\n",
    "    Generate an answer token-by-token using sampling, while accumulating log probabilities.\n",
    "    Returns the generated text and total log probability.\n",
    "    \"\"\"\n",
    "    inputs = tokenizer(prompt, return_tensors=\"pt\").to(device)\n",
    "    input_ids = inputs.input_ids\n",
    "    attention_mask = inputs.attention_mask\n",
    "\n",
    "    generated_tokens = []\n",
    "    log_probs = []\n",
    "    for _ in range(max_new_tokens):\n",
    "        outputs = model(input_ids=input_ids, attention_mask=attention_mask)\n",
    "        # Convert logits to float32 to avoid NaN issues.\n",
    "        logits = outputs.logits[:, -1, :].to(torch.float32)\n",
    "        logits = logits / temperature\n",
    "        distribution = torch.distributions.Categorical(logits=logits)\n",
    "        token = distribution.sample()  # Sample next token.\n",
    "        log_prob = distribution.log_prob(token)\n",
    "        generated_tokens.append(token)\n",
    "        log_probs.append(log_prob)\n",
    "        # Append the sampled token to the input sequence.\n",
    "        input_ids = torch.cat([input_ids, token.unsqueeze(-1)], dim=-1)\n",
    "        attention_mask = torch.cat([attention_mask, torch.ones_like(token.unsqueeze(-1))], dim=-1)\n",
    "        # Stop if EOS token is generated.\n",
    "        if token.item() == tokenizer.eos_token_id:\n",
    "            break\n",
    "    total_log_prob = torch.stack(log_probs).sum()\n",
    "    generated_text = tokenizer.decode(torch.cat(generated_tokens), skip_special_tokens=True)\n",
    "    return generated_text, total_log_prob"
   ]
  },
  {
   "cell_type": "code",
   "execution_count": 9,
   "metadata": {},
   "outputs": [
    {
     "name": "stderr",
     "output_type": "stream",
     "text": [
      "/home/anishkav/.local/lib/python3.10/site-packages/torch/_utils.py:831: UserWarning: TypedStorage is deprecated. It will be removed in the future and UntypedStorage will be the only storage class. This should only matter to you if you are using storages directly.  To access UntypedStorage directly, use tensor.untyped_storage() instead of tensor.storage()\n",
      "  return self.fget.__get__(instance, owner)()\n"
     ]
    },
    {
     "data": {
      "application/vnd.jupyter.widget-view+json": {
       "model_id": "90b10eaf198c46f98fcc94d47f59582c",
       "version_major": 2,
       "version_minor": 0
      },
      "text/plain": [
       "Resolving data files:   0%|          | 0/26 [00:00<?, ?it/s]"
      ]
     },
     "metadata": {},
     "output_type": "display_data"
    },
    {
     "data": {
      "application/vnd.jupyter.widget-view+json": {
       "model_id": "e5540ea7758e40d58ce28b78f70420d6",
       "version_major": 2,
       "version_minor": 0
      },
      "text/plain": [
       "Resolving data files:   0%|          | 0/26 [00:00<?, ?it/s]"
      ]
     },
     "metadata": {},
     "output_type": "display_data"
    }
   ],
   "source": [
    "# Load model and tokenizer\n",
    "model_name = \"microsoft/DialoGPT-medium\"\n",
    "save_file = 'qa_output/gpt_rl_triviaqa_fact.json'\n",
    "model = AutoModelForCausalLM.from_pretrained(model_name, torch_dtype=torch.float32).to(device)\n",
    "tokenizer = AutoTokenizer.from_pretrained(model_name)\n",
    "\n",
    "prefix = (\n",
    "    \"Below is a question followed by context from different sources. \"\n",
    "    \"Please answer using the context. If insufficient, respond 'Insufficient Information'. \"\n",
    "    \"Answer directly.\"\n",
    ")\n",
    "\n",
    "dataset = load_dataset(\"trivia_qa\", \"rc\", split=\"train[:100]\")\n",
    "doc_data = []\n",
    "for example in dataset:\n",
    "    query = example[\"question\"]\n",
    "    # Use available evidence if present; otherwise, provide a dummy context.\n",
    "    if \"evidence\" in example and len(example[\"evidence\"]) > 0:\n",
    "        retrieval_list = [{\"text\": example[\"evidence\"][0][\"text\"]}]\n",
    "    else:\n",
    "        retrieval_list = [{\"text\": \"No additional context available.\"}]\n",
    "    # Assume the answer is stored as a string or in a dict.\n",
    "    answer = example[\"answer\"][\"value\"] if isinstance(example[\"answer\"], dict) else example[\"answer\"]\n",
    "    doc_data.append({\n",
    "        \"query\": query,\n",
    "        \"retrieval_list\": retrieval_list,\n",
    "        \"answer\": answer,\n",
    "        \"question_type\": \"trivia\"\n",
    "    })\n",
    "\n",
    "optimizer = Adam(model.parameters(), lr=LEARNING_RATE)"
   ]
  },
  {
   "cell_type": "code",
   "execution_count": 24,
   "metadata": {},
   "outputs": [
    {
     "name": "stdout",
     "output_type": "stream",
     "text": [
      "Epoch 1/2\n"
     ]
    },
    {
     "name": "stderr",
     "output_type": "stream",
     "text": [
      "100%|██████████| 100/100 [09:54<00:00,  5.94s/it]\n"
     ]
    },
    {
     "name": "stdout",
     "output_type": "stream",
     "text": [
      "Epoch 1 completed.\n",
      "Epoch 2/2\n"
     ]
    },
    {
     "name": "stderr",
     "output_type": "stream",
     "text": [
      "100%|██████████| 100/100 [12:10<00:00,  7.30s/it]\n"
     ]
    },
    {
     "name": "stdout",
     "output_type": "stream",
     "text": [
      "Epoch 2 completed.\n"
     ]
    }
   ],
   "source": [
    "# Training Loop with Hybrid Training on TriviaQA subset.\n",
    "rm_file(save_file)\n",
    "save_list = []\n",
    "\n",
    "for epoch in range(num_epochs):\n",
    "    print(f\"Epoch {epoch+1}/{num_epochs}\")\n",
    "    for d in tqdm(doc_data):\n",
    "        # Retrieve context and construct prompt.\n",
    "        retrieval_list = d['retrieval_list']\n",
    "        context = retrieve_context(d['query'], retrieval_list, hops=2)\n",
    "        prompt = f\"{prefix}\\n\\nQuestion: {d['query']}\\n\\nContext:\\n\\n{context}\\n\\nAnswer:\"\n",
    "        \n",
    "        model.train()\n",
    "\n",
    "        # ----- RL Branch -----\n",
    "        # Generate an answer using RL sampling.\n",
    "        rl_response, total_log_prob = query_bot_rl(prompt)\n",
    "        # Compute reward comparing the generated answer with the gold answer.\n",
    "        reward = compute_reward(rl_response, d['answer'], context)\n",
    "        reward_tensor = torch.tensor(reward, device=device, dtype=total_log_prob.dtype)\n",
    "        rl_loss = -reward_tensor * total_log_prob\n",
    "\n",
    "        # ----- Supervised (MLE) Branch -----\n",
    "        # Construct a combined input: prompt followed by the gold answer.\n",
    "        # We add a marker \"Answer:\" to indicate the beginning of the answer.\n",
    "        prompt_text = prompt + \"\\n\\nAnswer:\"\n",
    "        prompt_enc = tokenizer(prompt_text, return_tensors=\"pt\").to(device)\n",
    "        answer_enc = tokenizer(d['answer'], return_tensors=\"pt\").to(device)\n",
    "        # Concatenate the prompt and gold answer.\n",
    "        input_ids = torch.cat([prompt_enc.input_ids, answer_enc.input_ids], dim=1)\n",
    "        attention_mask = torch.cat([prompt_enc.attention_mask, answer_enc.attention_mask], dim=1)\n",
    "        # Create labels: ignore loss for prompt tokens.\n",
    "        labels = input_ids.clone()\n",
    "        labels[:, :prompt_enc.input_ids.shape[1]] = -100\n",
    "\n",
    "        outputs = model(input_ids=input_ids, attention_mask=attention_mask, labels=labels)\n",
    "        supervised_loss = outputs.loss\n",
    "\n",
    "        # ----- Hybrid Loss -----\n",
    "        # Combine supervised (MLE) loss and RL loss.\n",
    "        combined_loss = alpha * supervised_loss + (1 - alpha) * rl_loss\n",
    "\n",
    "        optimizer.zero_grad()\n",
    "        combined_loss.backward()\n",
    "        optimizer.step()\n",
    "\n",
    "        # Save training metrics.\n",
    "        save = {\n",
    "            'query': d['query'],\n",
    "            'prompt': prompt,\n",
    "            'rl_model_answer': rl_response,\n",
    "            'gold_answer': d['answer'],\n",
    "            'question_type': d['question_type'],\n",
    "            'reward': reward,\n",
    "            'supervised_loss': supervised_loss.item(),\n",
    "            'rl_loss': rl_loss.item(),\n",
    "            'combined_loss': combined_loss.item()\n",
    "        }\n",
    "        save_list.append(save)\n",
    "        \n",
    "    # Optionally, save a checkpoint after each epoch.\n",
    "    torch.save(model.state_dict(), f\"checkpoint_fact_epoch_{epoch+1}.pt\")\n",
    "    print(f\"Epoch {epoch+1} completed.\")\n",
    "\n",
    "save_list_to_json(save_list, save_file)\n"
   ]
  },
  {
   "cell_type": "code",
   "execution_count": null,
   "metadata": {},
   "outputs": [
    {
     "name": "stdout",
     "output_type": "stream",
     "text": [
      "File qa_output/gpt_rl_triviaqa_fact.json removed successfully.\n",
      "Epoch 3/5\n"
     ]
    },
    {
     "name": "stderr",
     "output_type": "stream",
     "text": [
      "100%|██████████| 100/100 [10:52<00:00,  6.53s/it]\n"
     ]
    },
    {
     "name": "stdout",
     "output_type": "stream",
     "text": [
      "Epoch 3 completed.\n",
      "Epoch 4/5\n"
     ]
    },
    {
     "name": "stderr",
     "output_type": "stream",
     "text": [
      "100%|██████████| 100/100 [15:05<00:00,  9.06s/it]\n"
     ]
    },
    {
     "name": "stdout",
     "output_type": "stream",
     "text": [
      "Epoch 4 completed.\n",
      "Epoch 5/5\n"
     ]
    },
    {
     "name": "stderr",
     "output_type": "stream",
     "text": [
      "100%|██████████| 100/100 [08:57<00:00,  5.37s/it]\n"
     ]
    },
    {
     "name": "stdout",
     "output_type": "stream",
     "text": [
      "Epoch 5 completed.\n"
     ]
    }
   ],
   "source": []
  },
  {
   "cell_type": "code",
   "execution_count": 10,
   "metadata": {},
   "outputs": [
    {
     "data": {
      "application/vnd.jupyter.widget-view+json": {
       "model_id": "b40036077382407da58fa2e50928e9b1",
       "version_major": 2,
       "version_minor": 0
      },
      "text/plain": [
       "Resolving data files:   0%|          | 0/26 [00:00<?, ?it/s]"
      ]
     },
     "metadata": {},
     "output_type": "display_data"
    },
    {
     "data": {
      "application/vnd.jupyter.widget-view+json": {
       "model_id": "343fdd271e22424ea92d24dc0bea5997",
       "version_major": 2,
       "version_minor": 0
      },
      "text/plain": [
       "Resolving data files:   0%|          | 0/26 [00:00<?, ?it/s]"
      ]
     },
     "metadata": {},
     "output_type": "display_data"
    },
    {
     "name": "stdout",
     "output_type": "stream",
     "text": [
      "Question: Asmara international airport is in which country?\n",
      "Generated Answer: Barbuda, FL\n",
      "----\n",
      "\n",
      "Question: At whose concert were 11 people trampled to death in Ohio in 1979?\n",
      "Generated Answer: 6th Floor concert\n",
      "----\n",
      "\n",
      "Question: Andy Warhol/'s 60s exhibition featured cans of which product?\n",
      "Generated Answer: Brasil and olive oil\n",
      "----\n",
      "\n",
      "Question: San Giusto international airport is in which county?\n",
      "Generated Answer: San Jose, Ca\n",
      "----\n",
      "\n",
      "Question: Who had a 60s No 1 with Travelin' Man?\n",
      "Generated Answer: Traveling Man\n",
      "----\n",
      "\n"
     ]
    }
   ],
   "source": [
    "# ----- Evaluation on Unseen Data -----\n",
    "# Load the saved model and set it to evaluation mode.\n",
    "model.load_state_dict(torch.load(\"checkpoint_fact_epoch_5.pt\"))\n",
    "model.eval()\n",
    "\n",
    "# Load a few questions from the TriviaQA test split.\n",
    "test_dataset = load_dataset(\"trivia_qa\", \"rc\", split=\"test[:5]\")\n",
    "\n",
    "for example in test_dataset:\n",
    "    query = example[\"question\"]\n",
    "    if \"evidence\" in example and len(example[\"evidence\"]) > 0:\n",
    "        retrieval_list = [{\"text\": example[\"evidence\"][0][\"text\"]}]\n",
    "    else:\n",
    "        retrieval_list = [{\"text\": \"No additional context available.\"}]\n",
    "    context = retrieve_context(query, retrieval_list, hops=2)\n",
    "    prompt = f\"{prefix}\\n\\nQuestion: {query}\\n\\nContext:\\n\\n{context}\\n\\nAnswer:\"\n",
    "    response, _ = query_bot_rl(prompt)\n",
    "    print(f\"Question: {query}\")\n",
    "    print(f\"Generated Answer: {response}\")\n",
    "    # print(f\"Gold Answer: {example['answer']['value']}\")\n",
    "    print(\"----\\n\")"
   ]
  },
  {
   "cell_type": "code",
   "execution_count": 20,
   "metadata": {},
   "outputs": [
    {
     "data": {
      "application/vnd.jupyter.widget-view+json": {
       "model_id": "c0ec40851849478dac0469a48d6bf1ae",
       "version_major": 2,
       "version_minor": 0
      },
      "text/plain": [
       "Resolving data files:   0%|          | 0/26 [00:00<?, ?it/s]"
      ]
     },
     "metadata": {},
     "output_type": "display_data"
    },
    {
     "data": {
      "application/vnd.jupyter.widget-view+json": {
       "model_id": "a09f3073a0374eeb90d74558679a922d",
       "version_major": 2,
       "version_minor": 0
      },
      "text/plain": [
       "Resolving data files:   0%|          | 0/26 [00:00<?, ?it/s]"
      ]
     },
     "metadata": {},
     "output_type": "display_data"
    },
    {
     "name": "stderr",
     "output_type": "stream",
     "text": [
      "100%|██████████| 100/100 [04:27<00:00,  2.67s/it]\n"
     ]
    }
   ],
   "source": [
    "from evaluate import load\n",
    "\n",
    "test_data = load_dataset(\"trivia_qa\", \"rc\", split=\"test[:100]\")\n",
    "\n",
    "doc_data = []\n",
    "for example in test_data:\n",
    "    query = example[\"question\"]\n",
    "    # Use available evidence if present; otherwise, provide a dummy context.\n",
    "    if \"evidence\" in example and len(example[\"evidence\"]) > 0:\n",
    "        retrieval_list = [{\"text\": example[\"evidence\"][0][\"text\"]}]\n",
    "    else:\n",
    "        retrieval_list = [{\"text\": \"No additional context available.\"}]\n",
    "    # Assume the answer is stored as a string or in a dict.\n",
    "    answer = example[\"answer\"][\"value\"] if isinstance(example[\"answer\"], dict) else example[\"answer\"]\n",
    "    doc_data.append({\n",
    "        \"query\": query,\n",
    "        \"retrieval_list\": retrieval_list,\n",
    "        \"answer\": answer,\n",
    "        \"question_type\": \"trivia\"\n",
    "    })\n",
    "\n",
    "# Load evaluation metrics\n",
    "bleu = load(\"bleu\")\n",
    "rouge = load(\"rouge\")\n",
    "bert_score = load(\"bertscore\")\n",
    "\n",
    "# Generate predictions\n",
    "predictions = []\n",
    "ground_truths = []\n",
    "\n",
    "D = []\n",
    "\n",
    "for data in tqdm(doc_data):\n",
    "    retrieval_list = data['retrieval_list']\n",
    "    context = retrieve_context(data['query'], retrieval_list, hops=2)\n",
    "    prompt = f\"{prefix}\\n\\nQuestion: {data['query']}\\n\\nContext:\\n\\n{context}\"\n",
    "    gold_answer = data['answer']\n",
    "    model_answer, _ = query_bot_rl(prompt)\n",
    "\n",
    "    predictions.append(model_answer)\n",
    "    ground_truths.append(gold_answer)\n",
    "    \n",
    "    reward = compute_reward(model_answer, gold_answer, context)\n",
    "    D.append(reward)\n",
    "\n"
   ]
  },
  {
   "cell_type": "code",
   "execution_count": 50,
   "metadata": {},
   "outputs": [
    {
     "name": "stdout",
     "output_type": "stream",
     "text": [
      "Exact Match (EM): 0.0000\n",
      "BLEU Score: 0.0000\n",
      "ROUGE-L Score: 0.0000\n",
      "BERTScore (F1): 0.8148\n",
      "Average Reward: 0.3106\n",
      "Evaluation completed.\n"
     ]
    }
   ],
   "source": [
    "# Compute Exact Match (EM)\n",
    "exact_match = sum([1 if pred.lower().strip() == gold.lower().strip() else 0 \n",
    "                   for pred, gold in zip(predictions, ground_truths)]) / len(ground_truths)\n",
    "\n",
    "# Compute BLEU Score\n",
    "bleu_score = bleu.compute(predictions=predictions, references=ground_truths)\n",
    "\n",
    "# Compute ROUGE Score\n",
    "rouge_score = rouge.compute(predictions=predictions, references=ground_truths)\n",
    "\n",
    "# Compute BERTScore\n",
    "bert_score_result = bert_score.compute(predictions=predictions, references=ground_truths, lang=\"en\")\n",
    "avg_bert_score = sum(bert_score_result['f1']) / len(bert_score_result['f1'])\n",
    "\n",
    "# Compute average reward\n",
    "avg_reward = np.mean(D)\n",
    "\n",
    "# Print Results\n",
    "print(f\"Exact Match (EM): {exact_match:.4f}\")\n",
    "print(f\"BLEU Score: {bleu_score['bleu']:.4f}\")\n",
    "print(f\"ROUGE-L Score: {rouge_score['rougeL']:.4f}\")\n",
    "print(f\"BERTScore (F1): {sum(bert_score_result['f1']) / len(bert_score_result['f1']):.4f}\")\n",
    "print(f\"Average Reward: {avg_reward:.4f}\")\n",
    "\n",
    "# # Save results to a file\n",
    "# results = {\n",
    "#     'exact_match': exact_match,\n",
    "#     'bleu': bleu_score['bleu'],\n",
    "#     'rougeL': rouge_score['rougeL'],\n",
    "#     'bert_score': avg_bert_score,\n",
    "#     'average_reward': avg_reward\n",
    "# }\n",
    "\n",
    "# print(results)\n",
    "print(\"Evaluation completed.\")"
   ]
  }
 ],
 "metadata": {
  "kernelspec": {
   "display_name": "Python 3",
   "language": "python",
   "name": "python3"
  },
  "language_info": {
   "codemirror_mode": {
    "name": "ipython",
    "version": 3
   },
   "file_extension": ".py",
   "mimetype": "text/x-python",
   "name": "python",
   "nbconvert_exporter": "python",
   "pygments_lexer": "ipython3",
   "version": "3.10.12"
  }
 },
 "nbformat": 4,
 "nbformat_minor": 2
}
